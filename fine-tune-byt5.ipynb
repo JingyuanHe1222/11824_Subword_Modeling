{
 "cells": [
  {
   "cell_type": "code",
   "execution_count": 1,
   "id": "4902cf36",
   "metadata": {},
   "outputs": [],
   "source": [
    "%%capture\n",
    "!pip install transformers "
   ]
  },
  {
   "cell_type": "code",
   "execution_count": 1,
   "id": "49085b8c",
   "metadata": {},
   "outputs": [],
   "source": [
    "import numpy as np\n",
    "import os\n",
    "from tqdm import tqdm\n",
    "import copy\n",
    "\n",
    "import torch\n",
    "from torch.utils.data import DataLoader, Dataset\n",
    "\n",
    "import transformers\n",
    "from transformers import AutoTokenizer, AutoModelForSeq2SeqLM, T5ForConditionalGeneration\n",
    "\n",
    "# model optim\n",
    "from torch.optim import AdamW, SGD\n",
    "\n",
    "# lr schedulers\n",
    "from transformers import get_cosine_schedule_with_warmup, get_linear_schedule_with_warmup"
   ]
  },
  {
   "cell_type": "code",
   "execution_count": 2,
   "id": "c3a0139d",
   "metadata": {},
   "outputs": [],
   "source": [
    "class LangData(Dataset):\n",
    "    def __init__(self, base_dir, lang, split):\n",
    "        \n",
    "        self.split = split\n",
    "        \n",
    "        x_file = os.path.join(base_dir, lang+\".\" + self.split + \".src\")\n",
    "        self.x = self.__read__(x_file)\n",
    "        \n",
    "        if self.split != 'test':\n",
    "            y_file = os.path.join(base_dir, lang+\".\" + self.split + \".tgt\")\n",
    "            self.y = self.__read__(y_file)\n",
    "    \n",
    "    def __read__(self, file_dir):\n",
    "        \n",
    "        data = []\n",
    "        with open(file_dir, 'r', encoding='utf-8') as f:\n",
    "            for line in f:\n",
    "                data.append(line.strip())\n",
    "        return data        \n",
    "    \n",
    "\n",
    "    def __len__(self):\n",
    "        return len(self.x)\n",
    "    \n",
    "    \n",
    "    def __getitem__(self, idx):\n",
    "        if self.split == \"test\":\n",
    "            return self.x[idx]\n",
    "        return self.x[idx], self.y[idx]"
   ]
  },
  {
   "cell_type": "code",
   "execution_count": 3,
   "id": "3480cc60",
   "metadata": {},
   "outputs": [
    {
     "name": "stderr",
     "output_type": "stream",
     "text": [
      "/opt/conda/envs/pytorch/lib/python3.10/site-packages/torch/_utils.py:831: UserWarning: TypedStorage is deprecated. It will be removed in the future and UntypedStorage will be the only storage class. This should only matter to you if you are using storages directly.  To access UntypedStorage directly, use tensor.untyped_storage() instead of tensor.storage()\n",
      "  return self.fget.__get__(instance, owner)()\n"
     ]
    }
   ],
   "source": [
    "model = T5ForConditionalGeneration.from_pretrained('google/byt5-small')\n",
    "tokenizer = AutoTokenizer.from_pretrained('google/byt5-small')"
   ]
  },
  {
   "cell_type": "code",
   "execution_count": 4,
   "id": "d8080bd8",
   "metadata": {},
   "outputs": [],
   "source": [
    "def __save_model(model_dir, model, model_type='latest'):\n",
    "\n",
    "    if model_type == \"latest\":\n",
    "        saved_name = 'latest_model.pt'\n",
    "    else:\n",
    "        saved_name = 'best_model.pt'\n",
    "\n",
    "    root_model_path = os.path.join(model_dir, saved_name)\n",
    "    state_dict = {'weights': model.state_dict(), \n",
    "                  'optimizer': model.optimizer.state_dict(), \n",
    "                  'scheduler': model.scheduler.state_dict()}\n",
    "    torch.save(state_dict, root_model_path)\n",
    "        \n",
    "        \n",
    "\n",
    "# Loads the experiment data if exists to resume training from last saved checkpoint.\n",
    "def __load_experiment(model_dir, model, model_type='latest'):\n",
    "    \n",
    "    if model_type == \"latest\":\n",
    "        saved_name = 'latest_model.pt'\n",
    "    else:\n",
    "        saved_name = 'best_model.pt'\n",
    "\n",
    "    if os.path.exists(os.path.join(model_dir, 'train.log')):\n",
    "        # get current epoch\n",
    "        current_epoch = 0\n",
    "        with open(os.path.join(model_dir, 'train.log')) as f:\n",
    "            for line in f:\n",
    "                current_epoch += 1\n",
    "        # get the latest model\n",
    "        state_dict = torch.load(os.path.join(model_dir, saved_name), map_location=device.type)\n",
    "        model.load_state_dict(state_dict['weights'])\n",
    "        model.optimizer.load_state_dict(state_dict['optimizer'])\n",
    "        model.scheduler.load_state_dict(state_dict['scheduler'])\n",
    "    else:\n",
    "        current_epoch = 0\n",
    "\n",
    "    return model, current_epoch\n",
    "\n",
    "\n",
    "\n",
    "def log(output_dir, log_str, file_name=None):\n",
    "    if file_name is None:\n",
    "        file_name = \"all.log\"\n",
    "    output_file = os.path.join(output_dir, file_name)\n",
    "    with open(output_file, 'a') as f:\n",
    "        f.write(log_str + '\\n')\n",
    "\n",
    "\n",
    "def get_optimizer(model, opt_name, lr, eps): \n",
    "    if opt_name == 'Adam':\n",
    "        return AdamW(model.parameters(), lr=lr, eps=eps)\n",
    "    elif opt_name == 'SGD':\n",
    "        return SGD(model.parameters(), lr=lr, eps=eps)\n",
    "    \n",
    "    \n",
    "def get_scheduler(model, scheduler, n_batches, n_epochs, warmup_portion=0.1):\n",
    "    train_steps = n_epochs*n_batches\n",
    "    warm_step = int(train_steps*warmup_portion)\n",
    "    if scheduler == \"linear\": \n",
    "        return get_linear_schedule_with_warmup(model.optimizer, num_warmup_steps=warm_step,num_training_steps=train_steps)\n",
    "    elif scheduler == \"cosine\":\n",
    "        return get_cosine_schedule_with_warmup(model.optimizer, num_warmup_steps=warm_step,num_training_steps=train_steps)\n"
   ]
  },
  {
   "cell_type": "code",
   "execution_count": 5,
   "id": "9bbaca35",
   "metadata": {},
   "outputs": [],
   "source": [
    "\n",
    "# training loop\n",
    "def train(model, dataloader_train, n_epochs, model_dir, log_file):\n",
    "\n",
    "    model.train() # put to train mode\n",
    "    \n",
    "    # load current model if exist\n",
    "    model, current_epoch = __load_experiment(model_dir, model)\n",
    "    \n",
    "    # model has 3 special tokens so shift utf encoding\n",
    "    \n",
    "    all_losses = []\n",
    "    \n",
    "    for e in range(current_epoch, n_epochs):\n",
    "\n",
    "        losses = 0\n",
    "        for step, data in tqdm(enumerate(dataloader_train), total=len(dataloader_train)):\n",
    "            \n",
    "            model_inputs = tokenizer(data[0], padding=\"longest\", return_tensors=\"pt\")\n",
    "            labels = tokenizer(data[1], padding=\"longest\", return_tensors=\"pt\").input_ids\n",
    "\n",
    "            outputs = model(**model_inputs.to(device), labels=labels.to(device))\n",
    "\n",
    "            loss = outputs[0]\n",
    "\n",
    "            model.optimizer.zero_grad() # clear loss\n",
    "            loss.backward()\n",
    "            model.optimizer.step()  # backprop to update the weights\n",
    "\n",
    "            if model.scheduler is not None:\n",
    "                model.scheduler.step()  # update learning rate schedule \n",
    "\n",
    "            # log losses\n",
    "            loss /= len(dataloader_train) # already average across batch in nn.CrossEntropy\n",
    "            losses += loss.item()\n",
    "            \n",
    "        # output stats\n",
    "        print(f\"Epoch {e}; loss {losses}\")\n",
    "        log(model_dir, \"Epoch \" + str(e+1) + \"; loss \" + str(losses), log_file)\n",
    "        all_losses.append(losses)\n",
    "        # save model\n",
    "        __save_model(model_dir, model) # save latest\n",
    "        if (e > current_epoch and losses < all_losses[-1]):\n",
    "            __save_model(model_dir, model, model_type='best') # save best model        "
   ]
  },
  {
   "cell_type": "code",
   "execution_count": 6,
   "id": "f1b3f51a",
   "metadata": {},
   "outputs": [],
   "source": [
    "def validation(model, dataloader_test, model_dir, log_file):\n",
    "    \n",
    "    model, e = __load_experiment(model_dir, model, model_type='latest')\n",
    "    \n",
    "    model.eval()\n",
    "    \n",
    "    losses = 0\n",
    "    for step, data in tqdm(enumerate(dataloader_test), total=len(dataloader_test)):\n",
    "\n",
    "        model_inputs = tokenizer(data[0], padding=\"longest\", return_tensors=\"pt\")\n",
    "        labels = tokenizer(data[1], padding=\"longest\", return_tensors=\"pt\").input_ids\n",
    "\n",
    "        outputs = model(**model_inputs.to(device), labels=labels.to(device))\n",
    "\n",
    "        loss = outputs[0]\n",
    "\n",
    "        # log losses\n",
    "        loss /= len(dataloader_test)\n",
    "        losses += loss.item()\n",
    "        \n",
    "    # output stats\n",
    "    print(f\"Validation loss {losses}\")\n",
    "    log(model_dir, \"Validation loss \" + str(losses), log_file)"
   ]
  },
  {
   "cell_type": "code",
   "execution_count": 7,
   "id": "52225c31",
   "metadata": {},
   "outputs": [],
   "source": [
    "# specify device\n",
    "device = torch.device(\"cuda\" if torch.cuda.is_available() else \"cpu\")\n",
    "\n",
    "lang_set = 'shp'\n",
    "\n",
    "batch_size = 4\n",
    "\n",
    "checkpoint = 'byt5_small'\n",
    "n_epochs = 10\n",
    "lr = 1e-4\n",
    "weight_decay = 1e-5\n",
    "optim = \"Adam\"\n",
    "scheduler = \"cosine\"\n",
    "log_file = 'train.log'"
   ]
  },
  {
   "cell_type": "code",
   "execution_count": 8,
   "id": "cc94c87c",
   "metadata": {},
   "outputs": [],
   "source": [
    "# model state_dict\n",
    "model_dir = f\"{lang_set}_{checkpoint}_e{n_epochs}_lr{lr}_eps{weight_decay}_{optim}_{scheduler}_batch{batch_size}\"\n",
    "if not os.path.isdir(model_dir):\n",
    "    os.mkdir(model_dir)"
   ]
  },
  {
   "cell_type": "code",
   "execution_count": 9,
   "id": "46b504d6",
   "metadata": {},
   "outputs": [],
   "source": [
    "data = LangData('miniproj1-dataset', lang_set, 'train')\n",
    "dataloader_train = DataLoader(data, batch_size=batch_size)"
   ]
  },
  {
   "cell_type": "code",
   "execution_count": 10,
   "id": "78ff58e3",
   "metadata": {},
   "outputs": [
    {
     "data": {
      "text/plain": [
       "T5ForConditionalGeneration(\n",
       "  (shared): Embedding(384, 1472)\n",
       "  (encoder): T5Stack(\n",
       "    (embed_tokens): Embedding(384, 1472)\n",
       "    (block): ModuleList(\n",
       "      (0): T5Block(\n",
       "        (layer): ModuleList(\n",
       "          (0): T5LayerSelfAttention(\n",
       "            (SelfAttention): T5Attention(\n",
       "              (q): Linear(in_features=1472, out_features=384, bias=False)\n",
       "              (k): Linear(in_features=1472, out_features=384, bias=False)\n",
       "              (v): Linear(in_features=1472, out_features=384, bias=False)\n",
       "              (o): Linear(in_features=384, out_features=1472, bias=False)\n",
       "              (relative_attention_bias): Embedding(32, 6)\n",
       "            )\n",
       "            (layer_norm): T5LayerNorm()\n",
       "            (dropout): Dropout(p=0.1, inplace=False)\n",
       "          )\n",
       "          (1): T5LayerFF(\n",
       "            (DenseReluDense): T5DenseGatedActDense(\n",
       "              (wi_0): Linear(in_features=1472, out_features=3584, bias=False)\n",
       "              (wi_1): Linear(in_features=1472, out_features=3584, bias=False)\n",
       "              (wo): Linear(in_features=3584, out_features=1472, bias=False)\n",
       "              (dropout): Dropout(p=0.1, inplace=False)\n",
       "              (act): NewGELUActivation()\n",
       "            )\n",
       "            (layer_norm): T5LayerNorm()\n",
       "            (dropout): Dropout(p=0.1, inplace=False)\n",
       "          )\n",
       "        )\n",
       "      )\n",
       "      (1-11): 11 x T5Block(\n",
       "        (layer): ModuleList(\n",
       "          (0): T5LayerSelfAttention(\n",
       "            (SelfAttention): T5Attention(\n",
       "              (q): Linear(in_features=1472, out_features=384, bias=False)\n",
       "              (k): Linear(in_features=1472, out_features=384, bias=False)\n",
       "              (v): Linear(in_features=1472, out_features=384, bias=False)\n",
       "              (o): Linear(in_features=384, out_features=1472, bias=False)\n",
       "            )\n",
       "            (layer_norm): T5LayerNorm()\n",
       "            (dropout): Dropout(p=0.1, inplace=False)\n",
       "          )\n",
       "          (1): T5LayerFF(\n",
       "            (DenseReluDense): T5DenseGatedActDense(\n",
       "              (wi_0): Linear(in_features=1472, out_features=3584, bias=False)\n",
       "              (wi_1): Linear(in_features=1472, out_features=3584, bias=False)\n",
       "              (wo): Linear(in_features=3584, out_features=1472, bias=False)\n",
       "              (dropout): Dropout(p=0.1, inplace=False)\n",
       "              (act): NewGELUActivation()\n",
       "            )\n",
       "            (layer_norm): T5LayerNorm()\n",
       "            (dropout): Dropout(p=0.1, inplace=False)\n",
       "          )\n",
       "        )\n",
       "      )\n",
       "    )\n",
       "    (final_layer_norm): T5LayerNorm()\n",
       "    (dropout): Dropout(p=0.1, inplace=False)\n",
       "  )\n",
       "  (decoder): T5Stack(\n",
       "    (embed_tokens): Embedding(384, 1472)\n",
       "    (block): ModuleList(\n",
       "      (0): T5Block(\n",
       "        (layer): ModuleList(\n",
       "          (0): T5LayerSelfAttention(\n",
       "            (SelfAttention): T5Attention(\n",
       "              (q): Linear(in_features=1472, out_features=384, bias=False)\n",
       "              (k): Linear(in_features=1472, out_features=384, bias=False)\n",
       "              (v): Linear(in_features=1472, out_features=384, bias=False)\n",
       "              (o): Linear(in_features=384, out_features=1472, bias=False)\n",
       "              (relative_attention_bias): Embedding(32, 6)\n",
       "            )\n",
       "            (layer_norm): T5LayerNorm()\n",
       "            (dropout): Dropout(p=0.1, inplace=False)\n",
       "          )\n",
       "          (1): T5LayerCrossAttention(\n",
       "            (EncDecAttention): T5Attention(\n",
       "              (q): Linear(in_features=1472, out_features=384, bias=False)\n",
       "              (k): Linear(in_features=1472, out_features=384, bias=False)\n",
       "              (v): Linear(in_features=1472, out_features=384, bias=False)\n",
       "              (o): Linear(in_features=384, out_features=1472, bias=False)\n",
       "            )\n",
       "            (layer_norm): T5LayerNorm()\n",
       "            (dropout): Dropout(p=0.1, inplace=False)\n",
       "          )\n",
       "          (2): T5LayerFF(\n",
       "            (DenseReluDense): T5DenseGatedActDense(\n",
       "              (wi_0): Linear(in_features=1472, out_features=3584, bias=False)\n",
       "              (wi_1): Linear(in_features=1472, out_features=3584, bias=False)\n",
       "              (wo): Linear(in_features=3584, out_features=1472, bias=False)\n",
       "              (dropout): Dropout(p=0.1, inplace=False)\n",
       "              (act): NewGELUActivation()\n",
       "            )\n",
       "            (layer_norm): T5LayerNorm()\n",
       "            (dropout): Dropout(p=0.1, inplace=False)\n",
       "          )\n",
       "        )\n",
       "      )\n",
       "      (1-3): 3 x T5Block(\n",
       "        (layer): ModuleList(\n",
       "          (0): T5LayerSelfAttention(\n",
       "            (SelfAttention): T5Attention(\n",
       "              (q): Linear(in_features=1472, out_features=384, bias=False)\n",
       "              (k): Linear(in_features=1472, out_features=384, bias=False)\n",
       "              (v): Linear(in_features=1472, out_features=384, bias=False)\n",
       "              (o): Linear(in_features=384, out_features=1472, bias=False)\n",
       "            )\n",
       "            (layer_norm): T5LayerNorm()\n",
       "            (dropout): Dropout(p=0.1, inplace=False)\n",
       "          )\n",
       "          (1): T5LayerCrossAttention(\n",
       "            (EncDecAttention): T5Attention(\n",
       "              (q): Linear(in_features=1472, out_features=384, bias=False)\n",
       "              (k): Linear(in_features=1472, out_features=384, bias=False)\n",
       "              (v): Linear(in_features=1472, out_features=384, bias=False)\n",
       "              (o): Linear(in_features=384, out_features=1472, bias=False)\n",
       "            )\n",
       "            (layer_norm): T5LayerNorm()\n",
       "            (dropout): Dropout(p=0.1, inplace=False)\n",
       "          )\n",
       "          (2): T5LayerFF(\n",
       "            (DenseReluDense): T5DenseGatedActDense(\n",
       "              (wi_0): Linear(in_features=1472, out_features=3584, bias=False)\n",
       "              (wi_1): Linear(in_features=1472, out_features=3584, bias=False)\n",
       "              (wo): Linear(in_features=3584, out_features=1472, bias=False)\n",
       "              (dropout): Dropout(p=0.1, inplace=False)\n",
       "              (act): NewGELUActivation()\n",
       "            )\n",
       "            (layer_norm): T5LayerNorm()\n",
       "            (dropout): Dropout(p=0.1, inplace=False)\n",
       "          )\n",
       "        )\n",
       "      )\n",
       "    )\n",
       "    (final_layer_norm): T5LayerNorm()\n",
       "    (dropout): Dropout(p=0.1, inplace=False)\n",
       "  )\n",
       "  (lm_head): Linear(in_features=1472, out_features=384, bias=False)\n",
       ")"
      ]
     },
     "execution_count": 10,
     "metadata": {},
     "output_type": "execute_result"
    }
   ],
   "source": [
    "model.to(device)"
   ]
  },
  {
   "cell_type": "code",
   "execution_count": 11,
   "id": "2c5394b4",
   "metadata": {},
   "outputs": [],
   "source": [
    "# model optimizer\n",
    "model.optimizer = get_optimizer(model, optim, lr, weight_decay)\n",
    "\n",
    "# learning rate scheduler\n",
    "model.scheduler = get_scheduler(model, scheduler, len(dataloader_train), n_epochs)"
   ]
  },
  {
   "cell_type": "code",
   "execution_count": 12,
   "id": "2cba68e1",
   "metadata": {},
   "outputs": [
    {
     "data": {
      "text/plain": [
       "torch.optim.lr_scheduler.LambdaLR"
      ]
     },
     "execution_count": 12,
     "metadata": {},
     "output_type": "execute_result"
    }
   ],
   "source": [
    "type(model.scheduler)"
   ]
  },
  {
   "cell_type": "code",
   "execution_count": 13,
   "id": "d7672594",
   "metadata": {},
   "outputs": [
    {
     "name": "stderr",
     "output_type": "stream",
     "text": [
      "100%|█████████████████████████████████████████████████████████████████████████████████| 219/219 [00:23<00:00,  9.42it/s]\n"
     ]
    },
    {
     "name": "stdout",
     "output_type": "stream",
     "text": [
      "Epoch 0; loss 20.42374260723591\n"
     ]
    },
    {
     "name": "stderr",
     "output_type": "stream",
     "text": [
      "100%|█████████████████████████████████████████████████████████████████████████████████| 219/219 [00:22<00:00,  9.63it/s]\n"
     ]
    },
    {
     "name": "stdout",
     "output_type": "stream",
     "text": [
      "Epoch 1; loss 4.660034565720707\n"
     ]
    },
    {
     "name": "stderr",
     "output_type": "stream",
     "text": [
      "100%|█████████████████████████████████████████████████████████████████████████████████| 219/219 [00:22<00:00,  9.67it/s]\n"
     ]
    },
    {
     "name": "stdout",
     "output_type": "stream",
     "text": [
      "Epoch 2; loss 1.364316575229168\n"
     ]
    },
    {
     "name": "stderr",
     "output_type": "stream",
     "text": [
      "100%|█████████████████████████████████████████████████████████████████████████████████| 219/219 [00:22<00:00,  9.70it/s]\n"
     ]
    },
    {
     "name": "stdout",
     "output_type": "stream",
     "text": [
      "Epoch 3; loss 0.8130061974516138\n"
     ]
    },
    {
     "name": "stderr",
     "output_type": "stream",
     "text": [
      "100%|█████████████████████████████████████████████████████████████████████████████████| 219/219 [00:22<00:00,  9.72it/s]\n"
     ]
    },
    {
     "name": "stdout",
     "output_type": "stream",
     "text": [
      "Epoch 4; loss 0.6384269639384001\n"
     ]
    },
    {
     "name": "stderr",
     "output_type": "stream",
     "text": [
      "100%|█████████████████████████████████████████████████████████████████████████████████| 219/219 [00:22<00:00,  9.61it/s]\n"
     ]
    },
    {
     "name": "stdout",
     "output_type": "stream",
     "text": [
      "Epoch 5; loss 0.5502342128311284\n"
     ]
    },
    {
     "name": "stderr",
     "output_type": "stream",
     "text": [
      "100%|█████████████████████████████████████████████████████████████████████████████████| 219/219 [00:22<00:00,  9.72it/s]\n"
     ]
    },
    {
     "name": "stdout",
     "output_type": "stream",
     "text": [
      "Epoch 6; loss 0.5051389230065979\n"
     ]
    },
    {
     "name": "stderr",
     "output_type": "stream",
     "text": [
      "100%|█████████████████████████████████████████████████████████████████████████████████| 219/219 [00:22<00:00,  9.69it/s]\n"
     ]
    },
    {
     "name": "stdout",
     "output_type": "stream",
     "text": [
      "Epoch 7; loss 0.4808352754916996\n"
     ]
    },
    {
     "name": "stderr",
     "output_type": "stream",
     "text": [
      "100%|█████████████████████████████████████████████████████████████████████████████████| 219/219 [00:22<00:00,  9.71it/s]\n"
     ]
    },
    {
     "name": "stdout",
     "output_type": "stream",
     "text": [
      "Epoch 8; loss 0.46712471288628876\n"
     ]
    },
    {
     "name": "stderr",
     "output_type": "stream",
     "text": [
      "100%|█████████████████████████████████████████████████████████████████████████████████| 219/219 [00:22<00:00,  9.70it/s]\n"
     ]
    },
    {
     "name": "stdout",
     "output_type": "stream",
     "text": [
      "Epoch 9; loss 0.4561161154997535\n"
     ]
    }
   ],
   "source": [
    "train(model, dataloader_train, n_epochs, model_dir, log_file)"
   ]
  },
  {
   "cell_type": "code",
   "execution_count": 14,
   "id": "b9b227d1",
   "metadata": {},
   "outputs": [],
   "source": [
    "data_val = LangData('miniproj1-dataset', lang_set, 'dev')\n",
    "dataloader_test = DataLoader(data_val, batch_size=batch_size)"
   ]
  },
  {
   "cell_type": "code",
   "execution_count": 15,
   "id": "dfb6e5fc",
   "metadata": {},
   "outputs": [
    {
     "name": "stderr",
     "output_type": "stream",
     "text": [
      "100%|███████████████████████████████████████████████████████████████████████████████████| 28/28 [00:00<00:00, 46.00it/s]"
     ]
    },
    {
     "name": "stdout",
     "output_type": "stream",
     "text": [
      "Validation loss 0.24250429961830378\n"
     ]
    },
    {
     "name": "stderr",
     "output_type": "stream",
     "text": [
      "\n"
     ]
    }
   ],
   "source": [
    "validation(model, dataloader_test, model_dir, log_file)"
   ]
  },
  {
   "cell_type": "code",
   "execution_count": 25,
   "id": "e8165578",
   "metadata": {},
   "outputs": [],
   "source": [
    "# -----------load trained model -----------------\n",
    "    \n",
    "# load latest model with weights computed during training\n",
    "model, current_epoch = __load_experiment(model_dir, model, model_type='latest')"
   ]
  },
  {
   "cell_type": "code",
   "execution_count": 26,
   "id": "bc04b917",
   "metadata": {},
   "outputs": [],
   "source": [
    "data = LangData('miniproj1-dataset', lang_set, 'dev')\n",
    "dataloader_test = DataLoader(data, batch_size=batch_size)"
   ]
  },
  {
   "cell_type": "code",
   "execution_count": 28,
   "id": "be4fee97",
   "metadata": {},
   "outputs": [],
   "source": [
    "# evaluate the model\n",
    "model.eval()\n",
    "\n",
    "# validation outputs\n",
    "with open(f'pred_{lang_set}.dev.tgt', 'w', encoding='utf-8') as f:\n",
    "    for i in range(len(data_val)):\n",
    "        inputs = tokenizer(data[i], return_tensors='pt', padding=\"longest\") # validation set need padding \n",
    "        input_ids = inputs['input_ids'].to(device)\n",
    "\n",
    "        # generate questions with context \n",
    "        outputs = model.generate(input_ids, max_new_tokens=20)\n",
    "\n",
    "        # decode output (note that question and answer to that question is generated)\n",
    "        question_answer = tokenizer.decode(outputs[0], skip_special_tokens=False)\n",
    "        question_answer = question_answer.replace(tokenizer.pad_token, \"\").replace(tokenizer.eos_token, \"\")\n",
    "        output = question_answer.split(tokenizer.sep_token)\n",
    "#         print(\" \".join(output))\n",
    "        f.write(\" \".join(output))\n",
    "        f.write('\\n')"
   ]
  },
  {
   "cell_type": "code",
   "execution_count": null,
   "id": "42cf7aa0",
   "metadata": {},
   "outputs": [],
   "source": [
    "data = LangData('miniproj1-dataset', lang_set, 'test')\n",
    "dataloader_test = DataLoader(data, batch_size=batch_size)"
   ]
  },
  {
   "cell_type": "code",
   "execution_count": 22,
   "id": "67948d01",
   "metadata": {},
   "outputs": [],
   "source": [
    "with open(f'pred_{lang_set}.test.tgt', 'w', encoding='utf-8') as f:\n",
    "    for i in range(len(data)):\n",
    "        inputs = tokenizer(data[i], return_tensors='pt')\n",
    "        input_ids = inputs['input_ids'].to(device)\n",
    "\n",
    "        # generate questions with context \n",
    "        outputs = model.generate(input_ids, max_new_tokens=20)\n",
    "\n",
    "        # decode output (note that question and answer to that question is generated)\n",
    "        question_answer = tokenizer.decode(outputs[0], skip_special_tokens=False)\n",
    "        question_answer = question_answer.replace(tokenizer.pad_token, \"\").replace(tokenizer.eos_token, \"\")\n",
    "        output = question_answer.split(tokenizer.sep_token)\n",
    "#         print(\" \".join(output))\n",
    "        f.write(\" \".join(output))\n",
    "        f.write('\\n')"
   ]
  },
  {
   "cell_type": "code",
   "execution_count": null,
   "id": "7dbb0112",
   "metadata": {},
   "outputs": [],
   "source": []
  },
  {
   "cell_type": "code",
   "execution_count": null,
   "id": "a62117ce",
   "metadata": {},
   "outputs": [],
   "source": []
  }
 ],
 "metadata": {
  "kernelspec": {
   "display_name": "Python 3 (ipykernel)",
   "language": "python",
   "name": "python3"
  },
  "language_info": {
   "codemirror_mode": {
    "name": "ipython",
    "version": 3
   },
   "file_extension": ".py",
   "mimetype": "text/x-python",
   "name": "python",
   "nbconvert_exporter": "python",
   "pygments_lexer": "ipython3",
   "version": "3.10.13"
  }
 },
 "nbformat": 4,
 "nbformat_minor": 5
}
